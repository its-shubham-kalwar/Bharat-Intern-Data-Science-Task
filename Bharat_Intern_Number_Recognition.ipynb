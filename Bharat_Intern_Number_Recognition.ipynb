{
  "nbformat": 4,
  "nbformat_minor": 0,
  "metadata": {
    "colab": {
      "provenance": []
    },
    "kernelspec": {
      "name": "python3",
      "display_name": "Python 3"
    },
    "language_info": {
      "name": "python"
    }
  },
  "cells": [
    {
      "cell_type": "code",
      "execution_count": 1,
      "metadata": {
        "id": "uMCat-p4_qMP"
      },
      "outputs": [],
      "source": [
        "#importing the libraries\n",
        "import numpy as np\n",
        "import matplotlib.pyplot as plt\n",
        "from keras.datasets import mnist\n",
        "from keras.models import Sequential\n",
        "from keras.layers import Dense, Dropout\n",
        "from keras.utils import np_utils"
      ]
    },
    {
      "cell_type": "code",
      "source": [
        "#loading the dataset\n",
        "(X_train, y_train), (X_test, y_test) = mnist.load_data()"
      ],
      "metadata": {
        "colab": {
          "base_uri": "https://localhost:8080/"
        },
        "id": "uOAaM1U7ERv8",
        "outputId": "65673cff-9137-41cb-fc6c-f3fc55fc4b30"
      },
      "execution_count": 2,
      "outputs": [
        {
          "output_type": "stream",
          "name": "stdout",
          "text": [
            "Downloading data from https://storage.googleapis.com/tensorflow/tf-keras-datasets/mnist.npz\n",
            "11490434/11490434 [==============================] - 0s 0us/step\n"
          ]
        }
      ]
    },
    {
      "cell_type": "code",
      "source": [
        "#plotting the first image in the dataset\n",
        "X_train = X_train.reshape(X_train.shape[0], 28 * 28).astype('float32')\n",
        "X_test = X_test.reshape(X_test.shape[0], 28 * 28).astype('float32')"
      ],
      "metadata": {
        "id": "3sUme21FEX8z"
      },
      "execution_count": 3,
      "outputs": []
    },
    {
      "cell_type": "code",
      "source": [
        "#normalizing inputs from 0-255 to 0-1\n",
        "X_train /= 255\n",
        "X_test /= 255"
      ],
      "metadata": {
        "id": "6j_G-RyxEgdl"
      },
      "execution_count": 4,
      "outputs": []
    },
    {
      "cell_type": "code",
      "source": [
        "#one hot encoding outputs\n",
        "y_train = np_utils.to_categorical(y_train)\n",
        "y_test = np_utils.to_categorical(y_test)"
      ],
      "metadata": {
        "id": "WhcoEtzlEglf"
      },
      "execution_count": 5,
      "outputs": []
    },
    {
      "cell_type": "code",
      "source": [
        "#defining the model\n",
        "model = Sequential()"
      ],
      "metadata": {
        "id": "B1tQjV8SEqjQ"
      },
      "execution_count": 6,
      "outputs": []
    },
    {
      "cell_type": "code",
      "source": [
        "#adding layers to the model\n",
        "model.add(Dense(512, input_shape=(28 * 28,), activation='relu'))"
      ],
      "metadata": {
        "id": "HsxFZJtdEwga"
      },
      "execution_count": 7,
      "outputs": []
    },
    {
      "cell_type": "code",
      "source": [
        "#reducing the overfitting of values\n",
        "model.add(Dropout(0.2))\n",
        "model.add(Dense(512, activation='relu'))\n",
        "model.add(Dropout(0.2))\n",
        "model.add(Dense(10, activation='softmax'))"
      ],
      "metadata": {
        "id": "_WAfZlNqE13W"
      },
      "execution_count": 8,
      "outputs": []
    },
    {
      "cell_type": "code",
      "source": [
        "#compiling the model\n",
        "model.compile(loss='categorical_crossentropy', optimizer='adam', metrics=['accuracy'])"
      ],
      "metadata": {
        "id": "ezk_4q7kE73u"
      },
      "execution_count": 9,
      "outputs": []
    },
    {
      "cell_type": "code",
      "source": [
        "#fitting the model\n",
        "model.fit(X_train, y_train, epochs=10, batch_size=128, validation_data=(X_test, y_test))"
      ],
      "metadata": {
        "colab": {
          "base_uri": "https://localhost:8080/"
        },
        "id": "X_pJo2IPFCdM",
        "outputId": "caf8b0ed-f3fd-47b4-d74a-a9d84bca68f4"
      },
      "execution_count": 10,
      "outputs": [
        {
          "output_type": "stream",
          "name": "stdout",
          "text": [
            "Epoch 1/10\n",
            "469/469 [==============================] - 12s 24ms/step - loss: 0.2499 - accuracy: 0.9247 - val_loss: 0.0984 - val_accuracy: 0.9690\n",
            "Epoch 2/10\n",
            "469/469 [==============================] - 11s 23ms/step - loss: 0.1016 - accuracy: 0.9685 - val_loss: 0.0776 - val_accuracy: 0.9754\n",
            "Epoch 3/10\n",
            "469/469 [==============================] - 12s 25ms/step - loss: 0.0730 - accuracy: 0.9775 - val_loss: 0.0764 - val_accuracy: 0.9763\n",
            "Epoch 4/10\n",
            "469/469 [==============================] - 13s 28ms/step - loss: 0.0545 - accuracy: 0.9827 - val_loss: 0.0722 - val_accuracy: 0.9768\n",
            "Epoch 5/10\n",
            "469/469 [==============================] - 12s 26ms/step - loss: 0.0467 - accuracy: 0.9848 - val_loss: 0.0705 - val_accuracy: 0.9786\n",
            "Epoch 6/10\n",
            "469/469 [==============================] - 16s 34ms/step - loss: 0.0384 - accuracy: 0.9878 - val_loss: 0.0736 - val_accuracy: 0.9775\n",
            "Epoch 7/10\n",
            "469/469 [==============================] - 12s 26ms/step - loss: 0.0340 - accuracy: 0.9885 - val_loss: 0.0655 - val_accuracy: 0.9818\n",
            "Epoch 8/10\n",
            "469/469 [==============================] - 12s 25ms/step - loss: 0.0308 - accuracy: 0.9898 - val_loss: 0.0682 - val_accuracy: 0.9817\n",
            "Epoch 9/10\n",
            "469/469 [==============================] - 9s 20ms/step - loss: 0.0278 - accuracy: 0.9906 - val_loss: 0.0636 - val_accuracy: 0.9832\n",
            "Epoch 10/10\n",
            "469/469 [==============================] - 11s 23ms/step - loss: 0.0276 - accuracy: 0.9907 - val_loss: 0.0699 - val_accuracy: 0.9826\n"
          ]
        },
        {
          "output_type": "execute_result",
          "data": {
            "text/plain": [
              "<keras.callbacks.History at 0x7c32166b0f70>"
            ]
          },
          "metadata": {},
          "execution_count": 10
        }
      ]
    },
    {
      "cell_type": "code",
      "source": [
        "#evaluating the model\n",
        "scores = model.evaluate(X_test, y_test, verbose=0)\n",
        "print('Test accuracy:', scores[1])"
      ],
      "metadata": {
        "colab": {
          "base_uri": "https://localhost:8080/"
        },
        "id": "Om8dolTFFXSn",
        "outputId": "b4ceb34e-87bb-457a-929c-1c80155ac041"
      },
      "execution_count": 11,
      "outputs": [
        {
          "output_type": "stream",
          "name": "stdout",
          "text": [
            "Test accuracy: 0.9825999736785889\n"
          ]
        }
      ]
    },
    {
      "cell_type": "code",
      "source": [
        "#predicting the image in the test set\n",
        "predictions = model.predict(X_test)"
      ],
      "metadata": {
        "colab": {
          "base_uri": "https://localhost:8080/"
        },
        "id": "65GABQCHFgYq",
        "outputId": "a0c40baa-2728-447b-ff4b-28185199d3e8"
      },
      "execution_count": 12,
      "outputs": [
        {
          "output_type": "stream",
          "name": "stdout",
          "text": [
            "313/313 [==============================] - 1s 4ms/step\n"
          ]
        }
      ]
    },
    {
      "cell_type": "code",
      "source": [
        "#plotting the image in the test set\n",
        "plt.plot(predictions[0], color='green')\n",
        "plt.title('Prediction for first test image')\n",
        "plt.xlabel('Digit')\n",
        "plt.ylabel('Probability')\n",
        "plt.show()\n",
        "print(mnist)"
      ],
      "metadata": {
        "colab": {
          "base_uri": "https://localhost:8080/",
          "height": 490
        },
        "id": "ufJWw993Fn4I",
        "outputId": "5eed290a-97e5-45df-9639-cd66c24ef35f"
      },
      "execution_count": 13,
      "outputs": [
        {
          "output_type": "display_data",
          "data": {
            "text/plain": [
              "<Figure size 640x480 with 1 Axes>"
            ],
            "image/png": "[encoded data removed]"
          },
          "metadata": {}
        },
        {
          "output_type": "stream",
          "name": "stdout",
          "text": [
            "<module 'keras.datasets.mnist' from '/usr/local/lib/python3.10/dist-packages/keras/datasets/mnist.py'>\n"
          ]
        }
      ]
    }
  ]
}